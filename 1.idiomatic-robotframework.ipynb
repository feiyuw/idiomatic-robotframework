{
 "cells": [
  {
   "cell_type": "markdown",
   "metadata": {
    "collapsed": true,
    "slideshow": {
     "slide_type": "slide"
    }
   },
   "source": [
    "## 1. Idiomatic RobotFramework\n",
    "\n",
    "![RobotFramework](/files/img/robotframework.png \"RobotFramework\")"
   ]
  },
  {
   "cell_type": "markdown",
   "metadata": {
    "slideshow": {
     "slide_type": "slide"
    }
   },
   "source": [
    "### Test Automation"
   ]
  },
  {
   "cell_type": "markdown",
   "metadata": {
    "slideshow": {
     "slide_type": "subslide"
    }
   },
   "source": [
    "#### SW Develop or SW Testing"
   ]
  },
  {
   "cell_type": "markdown",
   "metadata": {
    "slideshow": {
     "slide_type": "slide"
    }
   },
   "source": [
    "### Good Test Automation"
   ]
  },
  {
   "cell_type": "markdown",
   "metadata": {
    "slideshow": {
     "slide_type": "slide"
    }
   },
   "source": [
    "### TestSuite in RobotFramework"
   ]
  },
  {
   "cell_type": "markdown",
   "metadata": {
    "slideshow": {
     "slide_type": "subslide"
    }
   },
   "source": [
    "* Documentation\n",
    "* Meta Data\n",
    "* Force Tags\n",
    "* Suite Setup, Suite Teardown\n",
    "* default (Test Setup, Test Teardown, Test Timeout)"
   ]
  },
  {
   "cell_type": "markdown",
   "metadata": {
    "slideshow": {
     "slide_type": "slide"
    }
   },
   "source": [
    "### What is a bad TestSuite?"
   ]
  },
  {
   "cell_type": "markdown",
   "metadata": {
    "slideshow": {
     "slide_type": "subslide"
    }
   },
   "source": [
    "* only for single file\n",
    "* only 1 testcase in 1 suite\n",
    "* 50 testcases in 1 suite\n",
    "* no setup/teardown\n",
    "* suite structured by release name (or team name)"
   ]
  },
  {
   "cell_type": "markdown",
   "metadata": {
    "slideshow": {
     "slide_type": "slide"
    }
   },
   "source": [
    "### Variable File"
   ]
  },
  {
   "cell_type": "markdown",
   "metadata": {
    "slideshow": {
     "slide_type": "subslide"
    }
   },
   "source": [
    "* dynamic (runtime) variable\n",
    "* complex data structure"
   ]
  },
  {
   "cell_type": "code",
   "execution_count": null,
   "metadata": {
    "collapsed": false,
    "slideshow": {
     "slide_type": "subslide"
    }
   },
   "outputs": [],
   "source": [
    "# sample test_var.py\n",
    "import socket\n",
    "import fcntl\n",
    "import struct\n",
    "\n",
    "def get_variables(iface):\n",
    "    return {'LOCAL_IP': _get_ip_address(iface)}\n",
    "\n",
    "def _get_ip_address(ifname):\n",
    "    s = socket.socket(socket.AF_INET, socket.SOCK_DGRAM)\n",
    "    return socket.inet_ntoa(fcntl.ioctl(\n",
    "        s.fileno(),\n",
    "        0x8915,  # SIOCGIFADDR\n",
    "        struct.pack('256s', ifname[:15])\n",
    "    )[20:24])"
   ]
  },
  {
   "cell_type": "markdown",
   "metadata": {
    "slideshow": {
     "slide_type": "slide"
    }
   },
   "source": [
    "### Listener"
   ]
  },
  {
   "cell_type": "markdown",
   "metadata": {
    "slideshow": {
     "slide_type": "subslide"
    }
   },
   "source": [
    "* Extra requirements\n",
    "* Unify requirements for all suites\n",
    "* Temp requirements"
   ]
  },
  {
   "cell_type": "code",
   "execution_count": null,
   "metadata": {
    "collapsed": true,
    "slideshow": {
     "slide_type": "subslide"
    }
   },
   "outputs": [],
   "source": [
    "# sample test_listener.py\n",
    "import os\n",
    "import time\n",
    "\n",
    "class RunningInspector:\n",
    "    ROBOT_LISTENER_API_VERSION = 2\n",
    "\n",
    "    def __init__(self, output_file='inspector.report'):\n",
    "        self._output_file = os.path.abspath(output_file)\n",
    "        # {'log': [10, 20, 30], 'quit': [300]}\n",
    "        self._report = {}\n",
    "        self._duration_stack = []\n",
    "\n",
    "    def start_keyword(self, name, attrs):\n",
    "        self._duration_stack.append(time.time())\n",
    "\n",
    "    def end_keyword(self, name, attrs):\n",
    "        duration = time.time() - self._duration_stack.pop()\n",
    "        self._report.setdefault(name, []).append(duration)\n",
    "\n",
    "    def close(self):\n",
    "        ''' write report file '''\n",
    "        with open(self._output_file, 'w+b') as f:\n",
    "            for kw_name, durations in self._report.iteritems():\n",
    "                f.write(kw_name + '\\n')\n",
    "                f.write('\\tcount: %d, duration: %d\\n' % (len(durations), sum(durations)))"
   ]
  },
  {
   "cell_type": "markdown",
   "metadata": {
    "slideshow": {
     "slide_type": "subslide"
    }
   },
   "source": [
    "[Generate RobotFramework sub-suite log during large suite execution](http://blog.zhangyu.so/ta/2015/05/14/generate-robotframework-subsuite-log-during-large-suite-execution/)"
   ]
  },
  {
   "cell_type": "markdown",
   "metadata": {
    "slideshow": {
     "slide_type": "subslide"
    }
   },
   "source": [
    "#### [rdb](http://gitlab.china.nsn-net.net/ta/rdb)"
   ]
  },
  {
   "cell_type": "markdown",
   "metadata": {
    "slideshow": {
     "slide_type": "slide"
    }
   },
   "source": [
    "## Signal"
   ]
  },
  {
   "cell_type": "markdown",
   "metadata": {
    "slideshow": {
     "slide_type": "fragment"
    }
   },
   "source": [
    "* SIGINT\n",
    "* SIGTERM\n",
    "* SIGALRM"
   ]
  },
  {
   "cell_type": "markdown",
   "metadata": {
    "slideshow": {
     "slide_type": "subslide"
    }
   },
   "source": [
    "[Stop RobotFramework in a monitor thread](http://blog.zhangyu.so/ta/2015/06/03/stop-robotframework-in-a-monitor-thread/)"
   ]
  },
  {
   "cell_type": "markdown",
   "metadata": {
    "slideshow": {
     "slide_type": "slide"
    }
   },
   "source": [
    "## API"
   ]
  },
  {
   "cell_type": "markdown",
   "metadata": {
    "slideshow": {
     "slide_type": "fragment"
    }
   },
   "source": [
    "* parsing\n",
    "* running"
   ]
  },
  {
   "cell_type": "markdown",
   "metadata": {
    "slideshow": {
     "slide_type": "subslide"
    }
   },
   "source": [
    "[Do static analysis on RobotFramework cases](http://blog.zhangyu.so/ta/2015/05/27/do-static-analysis-on-robotframework-cases/)"
   ]
  },
  {
   "cell_type": "markdown",
   "metadata": {
    "slideshow": {
     "slide_type": "slide"
    }
   },
   "source": [
    "### Keyword"
   ]
  },
  {
   "cell_type": "markdown",
   "metadata": {
    "slideshow": {
     "slide_type": "subslide"
    }
   },
   "source": [
    "#### [Arguments]"
   ]
  },
  {
   "cell_type": "markdown",
   "metadata": {
    "slideshow": {
     "slide_type": "fragment"
    }
   },
   "source": [
    "```\n",
    "Send data to Server should return expect data back\n",
    "    [Arguments]    ${data}    ${expect data}\n",
    "    EchoClient.send    ${data}\n",
    "    ${received data}    EchoClient.read\n",
    "    Should Be Equal    ${received data}    ${data}\n",
    "```"
   ]
  },
  {
   "cell_type": "markdown",
   "metadata": {
    "slideshow": {
     "slide_type": "subslide"
    }
   },
   "source": [
    "#### Arguments in Keyword Name"
   ]
  },
  {
   "cell_type": "markdown",
   "metadata": {
    "slideshow": {
     "slide_type": "fragment"
    }
   },
   "source": [
    "```\n",
    "Send \"${data}\" to Server should return \"${expect data}\" back\n",
    "    EchoClient.send    ${data}\n",
    "    ${received data}    EchoClient.read\n",
    "    Should Be Equal    ${received data}    ${data}\n",
    "```"
   ]
  },
  {
   "cell_type": "markdown",
   "metadata": {
    "slideshow": {
     "slide_type": "slide"
    }
   },
   "source": [
    "### Library"
   ]
  },
  {
   "cell_type": "markdown",
   "metadata": {
    "slideshow": {
     "slide_type": "subslide"
    }
   },
   "source": [
    "#### Process Oriented"
   ]
  },
  {
   "cell_type": "code",
   "execution_count": null,
   "metadata": {
    "collapsed": true,
    "slideshow": {
     "slide_type": "fragment"
    }
   },
   "outputs": [],
   "source": [
    "# sample echo_lib.py\n",
    "import socket\n",
    "\n",
    "def connect_to_echo_client(host='127.0.0.1', port=50007, timeout=0.5):\n",
    "    _sock = socket.socket(socket.AF_INET, socket.SOCK_STREAM)\n",
    "    _sock.settimeout(timeout)\n",
    "    _sock.connect(host, int(port))\n",
    "    return _sock\n",
    "\n",
    "def disconnect_from_echo_client(_sock):\n",
    "    _sock.close()"
   ]
  },
  {
   "cell_type": "markdown",
   "metadata": {
    "slideshow": {
     "slide_type": "subslide"
    }
   },
   "source": [
    "#### Object Oriented"
   ]
  },
  {
   "cell_type": "code",
   "execution_count": null,
   "metadata": {
    "collapsed": true,
    "slideshow": {
     "slide_type": "fragment"
    }
   },
   "outputs": [],
   "source": [
    "# sample echo2_lib.py\n",
    "import socket\n",
    "\n",
    "class EchoClient(object):\n",
    "    ROBOT_LIBRARY_SCOPE = 'GLOBAL'\n",
    "    def __init__(self, host='127.0.0.1', port=50007, timeout=0.5):\n",
    "        self._host = host\n",
    "        self._port = int(port)\n",
    "        self._timeout = float(timeout)\n",
    "        self._sock = socket.socket(socket.AF_INET, socket.SOCK_STREAM)\n",
    "        self._sock.settimeout(self._timeout)\n",
    "        self._buffer = 1024\n",
    "\n",
    "    def connect(self):\n",
    "        self._sock.connect((self._host, self._port))\n",
    "\n",
    "    def disconnect(self):\n",
    "        self._sock.close()"
   ]
  },
  {
   "cell_type": "markdown",
   "metadata": {
    "slideshow": {
     "slide_type": "slide"
    }
   },
   "source": [
    "## Execution"
   ]
  },
  {
   "cell_type": "markdown",
   "metadata": {
    "slideshow": {
     "slide_type": "subslide"
    }
   },
   "source": [
    "### Automation"
   ]
  },
  {
   "cell_type": "markdown",
   "metadata": {
    "slideshow": {
     "slide_type": "subslide"
    }
   },
   "source": [
    "### Frequency"
   ]
  },
  {
   "cell_type": "markdown",
   "metadata": {
    "slideshow": {
     "slide_type": "subslide"
    }
   },
   "source": [
    "### Stability"
   ]
  }
 ],
 "metadata": {
  "celltoolbar": "Slideshow",
  "kernelspec": {
   "display_name": "Python 2",
   "language": "python",
   "name": "python2"
  },
  "language_info": {
   "codemirror_mode": {
    "name": "ipython",
    "version": 2
   },
   "file_extension": ".py",
   "mimetype": "text/x-python",
   "name": "python",
   "nbconvert_exporter": "python",
   "pygments_lexer": "ipython2",
   "version": "2.7.6"
  }
 },
 "nbformat": 4,
 "nbformat_minor": 0
}
